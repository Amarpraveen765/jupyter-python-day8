{
 "cells": [
  {
   "cell_type": "code",
   "execution_count": 3,
   "metadata": {},
   "outputs": [
    {
     "name": "stdout",
     "output_type": "stream",
     "text": [
      "14569"
     ]
    }
   ],
   "source": [
    "#1. Input : [1,4,5,6,9] \n",
    "#   output : 14569\n",
    "li = [1,4,5,6,9]\n",
    "for x in range(len(li)):\n",
    "    print(li[x],end=\"\")"
   ]
  },
  {
   "cell_type": "code",
   "execution_count": 4,
   "metadata": {},
   "outputs": [
    {
     "name": "stdout",
     "output_type": "stream",
     "text": [
      "46"
     ]
    }
   ],
   "source": [
    "# 2. input : [1,4,5,6,9]  \n",
    "#   output : 46\n",
    "li = [1,4,5,6,9]\n",
    "for x in range(len(li)):\n",
    "    if li[x]%2 == 0:\n",
    "        print(li[x],end=\"\")"
   ]
  },
  {
   "cell_type": "code",
   "execution_count": 25,
   "metadata": {},
   "outputs": [
    {
     "name": "stdout",
     "output_type": "stream",
     "text": [
      "[1, 4, 3, 16, 5]\n"
     ]
    }
   ],
   "source": [
    "# 3. Input : [1,2,3,4,5] \n",
    "#    output : [1,4,3,16,5]\n",
    "li = [1,2,3,4,5]\n",
    "for x in range(len(li)):\n",
    "    if li[x]%2 == 0:\n",
    "        li[x]=li[x]**2\n",
    "print(li)       "
   ]
  },
  {
   "cell_type": "code",
   "execution_count": 26,
   "metadata": {},
   "outputs": [
    {
     "name": "stdout",
     "output_type": "stream",
     "text": [
      "15 34 31 28 4 "
     ]
    }
   ],
   "source": [
    "# 4. input : [15,19,12,16,4] \n",
    "#   output : [15,34,31,28,4]\n",
    "def linearsearch(li):\n",
    "    for x in range(len(li)):\n",
    "        if x ==0 or x == len(li) - 1:\n",
    "            print(li[x],end=\" \")\n",
    "        else:\n",
    "            print(li[x-1]+li[x],end=\" \")\n",
    "    return\n",
    "li = [15,19,12,16,4]\n",
    "linearsearch(li)"
   ]
  },
  {
   "cell_type": "code",
   "execution_count": null,
   "metadata": {},
   "outputs": [],
   "source": []
  }
 ],
 "metadata": {
  "kernelspec": {
   "display_name": "Python 3",
   "language": "python",
   "name": "python3"
  },
  "language_info": {
   "codemirror_mode": {
    "name": "ipython",
    "version": 3
   },
   "file_extension": ".py",
   "mimetype": "text/x-python",
   "name": "python",
   "nbconvert_exporter": "python",
   "pygments_lexer": "ipython3",
   "version": "3.7.3"
  }
 },
 "nbformat": 4,
 "nbformat_minor": 2
}
